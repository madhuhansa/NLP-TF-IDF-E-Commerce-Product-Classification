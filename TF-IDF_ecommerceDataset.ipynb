{
 "cells": [
  {
   "cell_type": "markdown",
   "id": "8045e2ef",
   "metadata": {},
   "source": [
    "## 🗞️E-Commerce Product Classification: TF-IDF\n",
    "\n",
    "## 📂Step 1: Install & Import Libraries"
   ]
  },
  {
   "cell_type": "code",
   "execution_count": 1,
   "id": "fb776be0",
   "metadata": {},
   "outputs": [],
   "source": [
    "import pandas as pd"
   ]
  },
  {
   "cell_type": "markdown",
   "id": "467565aa",
   "metadata": {},
   "source": [
    "## 🗂️Step 2: Load data set"
   ]
  },
  {
   "cell_type": "code",
   "execution_count": 2,
   "id": "1866a640",
   "metadata": {},
   "outputs": [
    {
     "data": {
      "text/html": [
       "<div>\n",
       "<style scoped>\n",
       "    .dataframe tbody tr th:only-of-type {\n",
       "        vertical-align: middle;\n",
       "    }\n",
       "\n",
       "    .dataframe tbody tr th {\n",
       "        vertical-align: top;\n",
       "    }\n",
       "\n",
       "    .dataframe thead th {\n",
       "        text-align: right;\n",
       "    }\n",
       "</style>\n",
       "<table border=\"1\" class=\"dataframe\">\n",
       "  <thead>\n",
       "    <tr style=\"text-align: right;\">\n",
       "      <th></th>\n",
       "      <th>label</th>\n",
       "      <th>text</th>\n",
       "      <th>processed_text</th>\n",
       "    </tr>\n",
       "  </thead>\n",
       "  <tbody>\n",
       "    <tr>\n",
       "      <th>0</th>\n",
       "      <td>Household</td>\n",
       "      <td>SAF 'Floral' Framed Painting (Wood, 30 inch x ...</td>\n",
       "      <td>saf floral framed painting wood 30 inch x 10 i...</td>\n",
       "    </tr>\n",
       "    <tr>\n",
       "      <th>1</th>\n",
       "      <td>Household</td>\n",
       "      <td>SAF 'UV Textured Modern Art Print Framed' Pain...</td>\n",
       "      <td>saf uv texture modern art print framed paintin...</td>\n",
       "    </tr>\n",
       "    <tr>\n",
       "      <th>2</th>\n",
       "      <td>Household</td>\n",
       "      <td>SAF Flower Print Framed Painting (Synthetic, 1...</td>\n",
       "      <td>saf flower print framed painting synthetic 13....</td>\n",
       "    </tr>\n",
       "    <tr>\n",
       "      <th>3</th>\n",
       "      <td>Household</td>\n",
       "      <td>Incredible Gifts India Wooden Happy Birthday U...</td>\n",
       "      <td>incredible gifts india wooden happy birthday u...</td>\n",
       "    </tr>\n",
       "    <tr>\n",
       "      <th>4</th>\n",
       "      <td>Household</td>\n",
       "      <td>Pitaara Box Romantic Venice Canvas Painting 6m...</td>\n",
       "      <td>pitaara box romantic venice canvas painting 6 ...</td>\n",
       "    </tr>\n",
       "  </tbody>\n",
       "</table>\n",
       "</div>"
      ],
      "text/plain": [
       "       label                                               text  \\\n",
       "0  Household  SAF 'Floral' Framed Painting (Wood, 30 inch x ...   \n",
       "1  Household  SAF 'UV Textured Modern Art Print Framed' Pain...   \n",
       "2  Household  SAF Flower Print Framed Painting (Synthetic, 1...   \n",
       "3  Household  Incredible Gifts India Wooden Happy Birthday U...   \n",
       "4  Household  Pitaara Box Romantic Venice Canvas Painting 6m...   \n",
       "\n",
       "                                      processed_text  \n",
       "0  saf floral framed painting wood 30 inch x 10 i...  \n",
       "1  saf uv texture modern art print framed paintin...  \n",
       "2  saf flower print framed painting synthetic 13....  \n",
       "3  incredible gifts india wooden happy birthday u...  \n",
       "4  pitaara box romantic venice canvas painting 6 ...  "
      ]
     },
     "execution_count": 2,
     "metadata": {},
     "output_type": "execute_result"
    }
   ],
   "source": [
    "df = pd.read_csv(\"processed_ecommerceDataset.csv\") \n",
    "df.head()"
   ]
  },
  {
   "cell_type": "markdown",
   "id": "4c70e7de",
   "metadata": {},
   "source": [
    "## 🔍Step 3: Explore Data"
   ]
  },
  {
   "cell_type": "code",
   "execution_count": 3,
   "id": "187d0dc2",
   "metadata": {},
   "outputs": [
    {
     "data": {
      "text/plain": [
       "label             0\n",
       "text              0\n",
       "processed_text    1\n",
       "dtype: int64"
      ]
     },
     "execution_count": 3,
     "metadata": {},
     "output_type": "execute_result"
    }
   ],
   "source": [
    "df.isnull().sum()"
   ]
  },
  {
   "cell_type": "code",
   "execution_count": 4,
   "id": "0d2d624d",
   "metadata": {},
   "outputs": [
    {
     "data": {
      "text/plain": [
       "(27800, 3)"
      ]
     },
     "execution_count": 4,
     "metadata": {},
     "output_type": "execute_result"
    }
   ],
   "source": [
    "df.dropna(inplace=True)\n",
    "df.shape"
   ]
  },
  {
   "cell_type": "markdown",
   "id": "5feb4b0a",
   "metadata": {},
   "source": [
    "## 🪓Step 5: train test split"
   ]
  },
  {
   "cell_type": "code",
   "execution_count": 6,
   "id": "5b7f49ce",
   "metadata": {},
   "outputs": [],
   "source": [
    "from sklearn.model_selection import train_test_split\n",
    "\n",
    "X = df[\"processed_text\"]\n",
    "y = df[\"label\"]\n",
    "X_train, X_test, y_train, y_test = train_test_split(X, y, test_size=0.2, random_state=42)"
   ]
  },
  {
   "cell_type": "markdown",
   "id": "a200e040",
   "metadata": {},
   "source": [
    "## 📘 Step 6: TF-IDF Vectorization"
   ]
  },
  {
   "cell_type": "code",
   "execution_count": null,
   "id": "be0dbc6e",
   "metadata": {},
   "outputs": [],
   "source": [
    "from sklearn.feature_extraction.text import TfidfVectorizer\n",
    "\n",
    "tfidf = TfidfVectorizer()\n",
    "X_train_tfidf = tfidf.fit_transform(X_train)\n",
    "X_test_tfidf = tfidf.transform(X_test)"
   ]
  },
  {
   "cell_type": "markdown",
   "id": "ffbd51a5",
   "metadata": {},
   "source": [
    "## 🤖Step 6: Train the Model"
   ]
  },
  {
   "cell_type": "markdown",
   "id": "0008ebf2",
   "metadata": {},
   "source": [
    "---\n",
    "### 🧪ultinomial Naive Bayes"
   ]
  },
  {
   "cell_type": "code",
   "execution_count": null,
   "id": "5ebc6d6e",
   "metadata": {},
   "outputs": [
    {
     "name": "stdout",
     "output_type": "stream",
     "text": [
      "🔹 Multinomial Naive Bayes\n",
      "✅ Accuracy: 0.9251798561151079\n",
      "                      precision    recall  f1-score   support\n",
      "\n",
      "               Books       0.97      0.90      0.93      1270\n",
      "Clothing_Accessories       0.97      0.93      0.95      1124\n",
      "         Electronics       0.95      0.84      0.90      1049\n",
      "           Household       0.87      0.98      0.92      2117\n",
      "\n",
      "            accuracy                           0.93      5560\n",
      "           macro avg       0.94      0.91      0.93      5560\n",
      "        weighted avg       0.93      0.93      0.93      5560\n",
      "\n"
     ]
    }
   ],
   "source": [
    "from sklearn.naive_bayes import MultinomialNB\n",
    "from sklearn.metrics import accuracy_score, classification_report\n",
    "\n",
    "model_nb = MultinomialNB()\n",
    "model_nb.fit(X_train_tfidf, y_train)\n",
    "\n",
    "y_pred_nb = model_nb.predict(X_test_tfidf)\n",
    "\n",
    "print(\"🔹 Multinomial Naive Bayes\")\n",
    "print(\"✅ Accuracy:\", accuracy_score(y_test, y_pred_nb))\n",
    "print(classification_report(y_test, y_pred_nb))"
   ]
  },
  {
   "cell_type": "markdown",
   "id": "c1847ed8",
   "metadata": {},
   "source": [
    "---\n",
    "### 🧪Logistic Regression"
   ]
  },
  {
   "cell_type": "code",
   "execution_count": 15,
   "id": "12464e74",
   "metadata": {},
   "outputs": [
    {
     "name": "stdout",
     "output_type": "stream",
     "text": [
      "🔹 Logistic Regression\n",
      "✅ Accuracy: 0.9548561151079137\n",
      "                      precision    recall  f1-score   support\n",
      "\n",
      "               Books       0.96      0.94      0.95      1270\n",
      "Clothing_Accessories       0.97      0.96      0.97      1124\n",
      "         Electronics       0.96      0.92      0.94      1049\n",
      "           Household       0.94      0.97      0.96      2117\n",
      "\n",
      "            accuracy                           0.95      5560\n",
      "           macro avg       0.96      0.95      0.95      5560\n",
      "        weighted avg       0.96      0.95      0.95      5560\n",
      "\n"
     ]
    }
   ],
   "source": [
    "from sklearn.linear_model import LogisticRegression\n",
    "\n",
    "model_lr = LogisticRegression(max_iter=1000)\n",
    "model_lr.fit(X_train_tfidf, y_train)\n",
    "\n",
    "y_pred_lr = model_lr.predict(X_test_tfidf)\n",
    "\n",
    "print(\"🔹 Logistic Regression\")\n",
    "print(\"✅ Accuracy:\", accuracy_score(y_test, y_pred_lr))\n",
    "print(classification_report(y_test, y_pred_lr))"
   ]
  },
  {
   "cell_type": "markdown",
   "id": "a6ea70f7",
   "metadata": {},
   "source": [
    "---\n",
    "### 🧪Support Vector Machine (SVM)"
   ]
  },
  {
   "cell_type": "code",
   "execution_count": 18,
   "id": "bfe30e2e",
   "metadata": {},
   "outputs": [
    {
     "name": "stderr",
     "output_type": "stream",
     "text": [
      "d:\\my web\\python\\Lib\\site-packages\\sklearn\\svm\\_classes.py:32: FutureWarning: The default value of `dual` will change from `True` to `'auto'` in 1.5. Set the value of `dual` explicitly to suppress the warning.\n",
      "  warnings.warn(\n"
     ]
    },
    {
     "name": "stdout",
     "output_type": "stream",
     "text": [
      "🔹 Linear SVM\n",
      "✅ Accuracy: 0.9618705035971223\n",
      "                      precision    recall  f1-score   support\n",
      "\n",
      "               Books       0.97      0.95      0.96      1270\n",
      "Clothing_Accessories       0.98      0.98      0.98      1124\n",
      "         Electronics       0.95      0.93      0.94      1049\n",
      "           Household       0.95      0.97      0.96      2117\n",
      "\n",
      "            accuracy                           0.96      5560\n",
      "           macro avg       0.96      0.96      0.96      5560\n",
      "        weighted avg       0.96      0.96      0.96      5560\n",
      "\n"
     ]
    }
   ],
   "source": [
    "from sklearn.svm import LinearSVC\n",
    "\n",
    "model_svm = LinearSVC()\n",
    "model_svm.fit(X_train_tfidf, y_train)\n",
    "\n",
    "y_pred_svm = model_svm.predict(X_test_tfidf)\n",
    "\n",
    "print(\"🔹 Linear SVM\")\n",
    "print(\"✅ Accuracy:\", accuracy_score(y_test, y_pred_svm))\n",
    "print(classification_report(y_test, y_pred_svm))"
   ]
  },
  {
   "cell_type": "markdown",
   "id": "9058f562",
   "metadata": {},
   "source": [
    "## 🏆 Best model"
   ]
  },
  {
   "cell_type": "code",
   "execution_count": 20,
   "id": "7f251427",
   "metadata": {},
   "outputs": [
    {
     "data": {
      "text/plain": [
       "<sklearn.metrics._plot.confusion_matrix.ConfusionMatrixDisplay at 0x1a56052c2d0>"
      ]
     },
     "execution_count": 20,
     "metadata": {},
     "output_type": "execute_result"
    },
    {
     "data": {
      "image/png": "[encoded data removed]",
      "text/plain": [
       "<Figure size 640x480 with 2 Axes>"
      ]
     },
     "metadata": {},
     "output_type": "display_data"
    }
   ],
   "source": [
    "from sklearn.metrics import confusion_matrix, ConfusionMatrixDisplay\n",
    "\n",
    "cm = confusion_matrix(y_test, y_pred_svm, labels=model_svm.classes_)\n",
    "disp = ConfusionMatrixDisplay(confusion_matrix=cm, display_labels=model_svm.classes_)\n",
    "disp.plot(xticks_rotation=45)\n"
   ]
  },
  {
   "cell_type": "markdown",
   "id": "d73b3282",
   "metadata": {},
   "source": [
    "## 📩 Save model"
   ]
  },
  {
   "cell_type": "code",
   "execution_count": 21,
   "id": "fe71a04c",
   "metadata": {},
   "outputs": [
    {
     "name": "stdout",
     "output_type": "stream",
     "text": [
      "Best model saved as 'best_model_svm.pkl'\n"
     ]
    }
   ],
   "source": [
    "import joblib\n",
    "\n",
    "# Save the best model\n",
    "joblib.dump(model_svm, 'best_model_svm.pkl')\n",
    "print(\"Best model saved as 'best_model_svm.pkl'\")"
   ]
  },
  {
   "cell_type": "markdown",
   "id": "9b03eb95",
   "metadata": {},
   "source": [
    "## ⚗️Test on Your Own Input"
   ]
  },
  {
   "cell_type": "code",
   "execution_count": null,
   "id": "3a4eb2bd",
   "metadata": {},
   "outputs": [
    {
     "name": "stdout",
     "output_type": "stream",
     "text": [
      "🔍 Predicted Category: Clothing_Accessories\n"
     ]
    }
   ],
   "source": [
    "sample = [\"Elegant leather boots for winter\"]  \n",
    "sample_tfidf = tfidf.transform(sample)\n",
    "predicted_label = model_svm.predict(sample_tfidf)\n",
    "print(\"🔍 Predicted Category:\", predicted_label[0])\n"
   ]
  }
 ],
 "metadata": {
  "kernelspec": {
   "display_name": "Python 3",
   "language": "python",
   "name": "python3"
  },
  "language_info": {
   "codemirror_mode": {
    "name": "ipython",
    "version": 3
   },
   "file_extension": ".py",
   "mimetype": "text/x-python",
   "name": "python",
   "nbconvert_exporter": "python",
   "pygments_lexer": "ipython3",
   "version": "3.11.4"
  }
 },
 "nbformat": 4,
 "nbformat_minor": 5
}
